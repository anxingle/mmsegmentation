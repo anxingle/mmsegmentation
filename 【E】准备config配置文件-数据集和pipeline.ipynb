{
 "cells": [
  {
   "cell_type": "markdown",
   "id": "c000cb3c-bf01-4635-a216-d0a25291943e",
   "metadata": {},
   "source": [
    "# 准备config配置文件-数据集和pipeline\n",
    "\n",
    "同济子豪兄 2023-6-26"
   ]
  },
  {
   "cell_type": "markdown",
   "id": "56aefedc-eb8a-4f34-8944-c6f26bb4c5e0",
   "metadata": {
    "tags": []
   },
   "source": [
    "## 进入MMSegmentation主目录"
   ]
  },
  {
   "cell_type": "code",
   "execution_count": 1,
   "id": "426b584c-a598-416b-8eb7-cffcdafa3312",
   "metadata": {
    "tags": []
   },
   "outputs": [
    {
     "ename": "FileNotFoundError",
     "evalue": "[Errno 2] No such file or directory: 'mmsegmentation'",
     "output_type": "error",
     "traceback": [
      "\u001b[0;31m---------------------------------------------------------------------------\u001b[0m",
      "\u001b[0;31mFileNotFoundError\u001b[0m                         Traceback (most recent call last)",
      "Cell \u001b[0;32mIn[1], line 2\u001b[0m\n\u001b[1;32m      1\u001b[0m \u001b[38;5;28;01mimport\u001b[39;00m \u001b[38;5;21;01mos\u001b[39;00m\n\u001b[0;32m----> 2\u001b[0m \u001b[43mos\u001b[49m\u001b[38;5;241;43m.\u001b[39;49m\u001b[43mchdir\u001b[49m\u001b[43m(\u001b[49m\u001b[38;5;124;43m'\u001b[39;49m\u001b[38;5;124;43mmmsegmentation\u001b[39;49m\u001b[38;5;124;43m'\u001b[39;49m\u001b[43m)\u001b[49m\n",
      "\u001b[0;31mFileNotFoundError\u001b[0m: [Errno 2] No such file or directory: 'mmsegmentation'"
     ]
    }
   ],
   "source": [
    "import os\n",
    "os.chdir('mmsegmentation')"
   ]
  },
  {
   "cell_type": "code",
   "execution_count": 2,
   "id": "613ee846-4059-4509-b063-5b443ad49305",
   "metadata": {},
   "outputs": [
    {
     "data": {
      "text/plain": [
       "'/data/an/mmsegmentation'"
      ]
     },
     "execution_count": 2,
     "metadata": {},
     "output_type": "execute_result"
    }
   ],
   "source": [
    "os.getcwd()"
   ]
  },
  {
   "cell_type": "markdown",
   "id": "16ea93b6-d61b-4478-ba32-a65a7be24a76",
   "metadata": {},
   "source": [
    "## 一：数据集配置文件\n",
    "\n",
    "定义数据集类（各类别名称及配色）"
   ]
  },
  {
   "cell_type": "code",
   "execution_count": 3,
   "id": "54a949e3-a33f-4b32-8fd4-ae893c07cc8b",
   "metadata": {},
   "outputs": [
    {
     "name": "stdout",
     "output_type": "stream",
     "text": [
      "--2025-10-21 15:24:19--  https://zihao-openmmlab.obs.cn-east-3.myhuaweicloud.com/20230130-mmseg/watermelon/configs/ZihaoDataset.py\n",
      "Resolving zihao-openmmlab.obs.cn-east-3.myhuaweicloud.com (zihao-openmmlab.obs.cn-east-3.myhuaweicloud.com)... 121.36.235.132\n",
      "Connecting to zihao-openmmlab.obs.cn-east-3.myhuaweicloud.com (zihao-openmmlab.obs.cn-east-3.myhuaweicloud.com)|121.36.235.132|:443... connected.\n",
      "HTTP request sent, awaiting response... 200 OK\n",
      "Length: 816 [binary/octet-stream]\n",
      "Saving to: ‘mmseg/datasets/ZihaoDataset.py’\n",
      "\n",
      "ZihaoDataset.py     100%[===================>]     816  --.-KB/s    in 0s      \n",
      "\n",
      "2025-10-21 15:24:19 (401 MB/s) - ‘mmseg/datasets/ZihaoDataset.py’ saved [816/816]\n",
      "\n"
     ]
    }
   ],
   "source": [
    "!rm -rf mmseg/datasets/ZihaoDataset.py # 删除原有文件\n",
    "!wget https://zihao-openmmlab.obs.cn-east-3.myhuaweicloud.com/20230130-mmseg/watermelon/configs/ZihaoDataset.py -P mmseg/datasets\n"
   ]
  },
  {
   "cell_type": "markdown",
   "id": "92604575-37e8-47cb-983f-ff9e636397b1",
   "metadata": {},
   "source": [
    "## 二：注册数据集类\n",
    "\n",
    "在`mmseg/datasets/__init__.py`中注册刚刚定义的`ZihaoDataset`数据集类"
   ]
  },
  {
   "cell_type": "code",
   "execution_count": 5,
   "id": "b3a64f85-32ed-44e8-b166-98fb9874c67b",
   "metadata": {},
   "outputs": [
    {
     "name": "stdout",
     "output_type": "stream",
     "text": [
      "--2025-10-21 15:26:48--  https://zihao-openmmlab.obs.cn-east-3.myhuaweicloud.com/20230130-mmseg/watermelon/configs/__init__.py\n",
      "Resolving zihao-openmmlab.obs.cn-east-3.myhuaweicloud.com (zihao-openmmlab.obs.cn-east-3.myhuaweicloud.com)... 121.36.235.132\n",
      "Connecting to zihao-openmmlab.obs.cn-east-3.myhuaweicloud.com (zihao-openmmlab.obs.cn-east-3.myhuaweicloud.com)|121.36.235.132|:443... connected.\n",
      "HTTP request sent, awaiting response... 200 OK\n",
      "Length: 2620 (2.6K) [binary/octet-stream]\n",
      "Saving to: ‘mmseg/datasets/__init__.py’\n",
      "\n",
      "__init__.py         100%[===================>]   2.56K  --.-KB/s    in 0s      \n",
      "\n",
      "2025-10-21 15:26:48 (1.22 GB/s) - ‘mmseg/datasets/__init__.py’ saved [2620/2620]\n",
      "\n"
     ]
    }
   ],
   "source": [
    "!rm -rf mmseg/datasets/__init__.py # 删除原有文件\n",
    "!wget https://zihao-openmmlab.obs.cn-east-3.myhuaweicloud.com/20230130-mmseg/watermelon/configs/__init__.py -P mmseg/datasets"
   ]
  },
  {
   "cell_type": "markdown",
   "id": "9fc5a127-4fc6-4834-a991-b19e9ce62fb9",
   "metadata": {},
   "source": [
    "## 三：pipeline配置文件\n",
    "\n",
    "数据集路径、预处理、后处理、DataLoader、测试集评估指标"
   ]
  },
  {
   "cell_type": "code",
   "execution_count": 7,
   "id": "563163df-d556-4a56-b84d-28f9f359b01a",
   "metadata": {},
   "outputs": [
    {
     "name": "stdout",
     "output_type": "stream",
     "text": [
      "--2025-10-21 15:45:31--  https://zihao-openmmlab.obs.cn-east-3.myhuaweicloud.com/20230130-mmseg/watermelon/configs/ZihaoDataset_pipeline.py\n",
      "Resolving zihao-openmmlab.obs.cn-east-3.myhuaweicloud.com (zihao-openmmlab.obs.cn-east-3.myhuaweicloud.com)... 121.36.235.132\n",
      "Connecting to zihao-openmmlab.obs.cn-east-3.myhuaweicloud.com (zihao-openmmlab.obs.cn-east-3.myhuaweicloud.com)|121.36.235.132|:443... connected.\n",
      "HTTP request sent, awaiting response... 200 OK\n",
      "Length: 2489 (2.4K) [binary/octet-stream]\n",
      "Saving to: ‘configs/_base_/datasets/ZihaoDataset_pipeline.py’\n",
      "\n",
      "ZihaoDataset_pipeli 100%[===================>]   2.43K  --.-KB/s    in 0s      \n",
      "\n",
      "2025-10-21 15:45:31 (277 MB/s) - ‘configs/_base_/datasets/ZihaoDataset_pipeline.py’ saved [2489/2489]\n",
      "\n"
     ]
    }
   ],
   "source": [
    "!rm -rf configs/_base_/datasets/ZihaoDataset_pipeline.py\n",
    "!wget https://zihao-openmmlab.obs.cn-east-3.myhuaweicloud.com/20230130-mmseg/watermelon/configs/ZihaoDataset_pipeline.py -P configs/_base_/datasets"
   ]
  },
  {
   "cell_type": "code",
   "execution_count": null,
   "id": "6432e005-6464-4e79-808d-e6dd3c4f4267",
   "metadata": {},
   "outputs": [],
   "source": []
  }
 ],
 "metadata": {
  "kernelspec": {
   "display_name": "Python 3 (ipykernel)",
   "language": "python",
   "name": "python3"
  },
  "language_info": {
   "codemirror_mode": {
    "name": "ipython",
    "version": 3
   },
   "file_extension": ".py",
   "mimetype": "text/x-python",
   "name": "python",
   "nbconvert_exporter": "python",
   "pygments_lexer": "ipython3",
   "version": "3.12.3"
  }
 },
 "nbformat": 4,
 "nbformat_minor": 5
}
